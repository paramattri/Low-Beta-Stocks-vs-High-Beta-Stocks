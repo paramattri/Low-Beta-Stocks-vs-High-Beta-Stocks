{
 "cells": [
  {
   "cell_type": "code",
   "execution_count": 1,
   "id": "4c3be8ef-6676-41f4-864d-114c74e0cbc5",
   "metadata": {},
   "outputs": [],
   "source": [
    "from bs4 import BeautifulSoup\n",
    "import requests\n",
    "import pandas as pd\n",
    "from time import sleep"
   ]
  },
  {
   "cell_type": "code",
   "execution_count": 2,
   "id": "43ffb1b7-d4a5-41a4-a645-25f67fde6933",
   "metadata": {},
   "outputs": [],
   "source": [
    "# reading nifty 50 components from wikipedia\n",
    "tickers = pd.read_html('https://en.wikipedia.org/wiki/NIFTY_50')[1]"
   ]
  },
  {
   "cell_type": "code",
   "execution_count": 3,
   "id": "9ee622bf-1bc7-45da-822c-a2bd9fd1a1e2",
   "metadata": {},
   "outputs": [],
   "source": [
    "tickers_list = tickers['Symbol'].to_list()"
   ]
  },
  {
   "cell_type": "code",
   "execution_count": 4,
   "id": "3363239c-a7e4-4e60-af71-7272454980a5",
   "metadata": {
    "tags": []
   },
   "outputs": [
    {
     "data": {
      "text/plain": [
       "['ADANIPORTS',\n",
       " 'APOLLOHOSP',\n",
       " 'ASIANPAINT',\n",
       " 'AXISBANK',\n",
       " 'BAJAJ-AUTO',\n",
       " 'BAJFINANCE',\n",
       " 'BAJAJFINSV',\n",
       " 'BHARTIARTL',\n",
       " 'BPCL',\n",
       " 'BRITANNIA',\n",
       " 'CIPLA',\n",
       " 'COALINDIA',\n",
       " 'DIVISLAB',\n",
       " 'DRREDDY',\n",
       " 'EICHERMOT',\n",
       " 'GRASIM',\n",
       " 'HCLTECH',\n",
       " 'HDFC',\n",
       " 'HDFCBANK',\n",
       " 'HDFCLIFE',\n",
       " 'HEROMOTOCO',\n",
       " 'HINDALCO',\n",
       " 'HINDUNILVR',\n",
       " 'ICICIBANK',\n",
       " 'INDUSINDBK',\n",
       " 'INFY',\n",
       " 'ITC',\n",
       " 'JSWSTEEL',\n",
       " 'KOTAKBANK',\n",
       " 'LT',\n",
       " 'M&M',\n",
       " 'MARUTI',\n",
       " 'NESTLEIND',\n",
       " 'NTPC',\n",
       " 'ONGC',\n",
       " 'POWERGRID',\n",
       " 'RELIANCE',\n",
       " 'SBIN',\n",
       " 'SBILIFE',\n",
       " 'SHREECEM',\n",
       " 'SUNPHARMA',\n",
       " 'TATAMOTORS',\n",
       " 'TATASTEEL',\n",
       " 'TCS',\n",
       " 'TATACONSUM',\n",
       " 'TECHM',\n",
       " 'TITAN',\n",
       " 'ULTRACEMCO',\n",
       " 'UPL',\n",
       " 'WIPRO']"
      ]
     },
     "execution_count": 4,
     "metadata": {},
     "output_type": "execute_result"
    }
   ],
   "source": [
    "tickers_list"
   ]
  },
  {
   "cell_type": "code",
   "execution_count": 5,
   "id": "b9278eb8-c813-4a27-851d-4eb20c742188",
   "metadata": {
    "tags": []
   },
   "outputs": [],
   "source": [
    "# fetching ROCE data for nifty 50 stocks from https://www.screener.in/\n",
    "def fetch_ROCE(stock):  \n",
    "    try:\n",
    "        sleep(0.5)\n",
    "        if stock == 'SBILIFE' or stock == 'NESTLEIND':\n",
    "            url = f'https://www.screener.in/company/{stock}/'\n",
    "        else:\n",
    "            url = f'https://www.screener.in/company/{stock}/consolidated/'\n",
    "            \n",
    "        response = requests.get(url)\n",
    "        html_data = response.text\n",
    "        soup = BeautifulSoup(html_data, 'html.parser')\n",
    "        top_ratios = soup.find(id=\"top-ratios\")\n",
    "        li_elements = top_ratios.find_all('li')\n",
    "        \n",
    "        for el in li_elements:\n",
    "            el_name = el.find(class_=\"name\")\n",
    "            if el_name.text.strip() == 'ROCE':\n",
    "                roce_element = el\n",
    "                break\n",
    "        if roce_element: \n",
    "            return float(roce_element.find(class_=\"number\").text.strip())\n",
    "    except Exception as e:\n",
    "        print(e)   "
   ]
  },
  {
   "cell_type": "code",
   "execution_count": 6,
   "id": "ad376dcc-f253-46bc-9012-58d86bf29c1c",
   "metadata": {},
   "outputs": [],
   "source": [
    "# creating a Data Frame to store ROCE of nifty 50 stocks\n",
    "nifty_50_roce = pd.DataFrame(index=[0])"
   ]
  },
  {
   "cell_type": "code",
   "execution_count": 7,
   "id": "7d468366-e391-446d-b787-414d256105e6",
   "metadata": {
    "tags": []
   },
   "outputs": [],
   "source": [
    "# appending .NS to ticker name as yfinance requires .NS while fetching the data\n",
    "for ticker in tickers_list:\n",
    "    nifty_50_roce[ticker+'.NS'] = fetch_ROCE(ticker)"
   ]
  },
  {
   "cell_type": "code",
   "execution_count": 8,
   "id": "6dd246bc-bf44-420f-96ae-b39cde7dc44e",
   "metadata": {
    "tags": []
   },
   "outputs": [],
   "source": [
    "nifty_50_roce = nifty_50_roce.T\n",
    "nifty_50_roce.columns = ['ROCE']"
   ]
  },
  {
   "cell_type": "code",
   "execution_count": 9,
   "id": "59ef790d-3eaf-4fcd-a522-a7189987b2d9",
   "metadata": {
    "tags": []
   },
   "outputs": [
    {
     "data": {
      "text/html": [
       "<div>\n",
       "<style scoped>\n",
       "    .dataframe tbody tr th:only-of-type {\n",
       "        vertical-align: middle;\n",
       "    }\n",
       "\n",
       "    .dataframe tbody tr th {\n",
       "        vertical-align: top;\n",
       "    }\n",
       "\n",
       "    .dataframe thead th {\n",
       "        text-align: right;\n",
       "    }\n",
       "</style>\n",
       "<table border=\"1\" class=\"dataframe\">\n",
       "  <thead>\n",
       "    <tr style=\"text-align: right;\">\n",
       "      <th></th>\n",
       "      <th>ROCE</th>\n",
       "    </tr>\n",
       "  </thead>\n",
       "  <tbody>\n",
       "    <tr>\n",
       "      <th>ADANIPORTS.NS</th>\n",
       "      <td>11.20</td>\n",
       "    </tr>\n",
       "    <tr>\n",
       "      <th>APOLLOHOSP.NS</th>\n",
       "      <td>17.80</td>\n",
       "    </tr>\n",
       "    <tr>\n",
       "      <th>ASIANPAINT.NS</th>\n",
       "      <td>29.70</td>\n",
       "    </tr>\n",
       "    <tr>\n",
       "      <th>AXISBANK.NS</th>\n",
       "      <td>5.15</td>\n",
       "    </tr>\n",
       "    <tr>\n",
       "      <th>BAJAJ-AUTO.NS</th>\n",
       "      <td>23.40</td>\n",
       "    </tr>\n",
       "  </tbody>\n",
       "</table>\n",
       "</div>"
      ],
      "text/plain": [
       "                ROCE\n",
       "ADANIPORTS.NS  11.20\n",
       "APOLLOHOSP.NS  17.80\n",
       "ASIANPAINT.NS  29.70\n",
       "AXISBANK.NS     5.15\n",
       "BAJAJ-AUTO.NS  23.40"
      ]
     },
     "execution_count": 9,
     "metadata": {},
     "output_type": "execute_result"
    }
   ],
   "source": [
    "nifty_50_roce.head()"
   ]
  },
  {
   "cell_type": "code",
   "execution_count": 10,
   "id": "52a48b09-9fe2-42d5-bef9-d7bb25c15efb",
   "metadata": {},
   "outputs": [],
   "source": [
    "# fetching ROE data for nifty 50 stocks from https://www.screener.in/\n",
    "def fetch_ROE(stock):  \n",
    "    try:\n",
    "        sleep(0.5)\n",
    "        if stock == 'SBILIFE' or stock == 'NESTLEIND':\n",
    "            url = f'https://www.screener.in/company/{stock}/'\n",
    "        else:\n",
    "            url = f'https://www.screener.in/company/{stock}/consolidated/'\n",
    "            \n",
    "        response = requests.get(url)\n",
    "        html_data = response.text\n",
    "        soup = BeautifulSoup(html_data, 'html.parser')\n",
    "        top_ratios = soup.find(id=\"top-ratios\")\n",
    "        li_elements = top_ratios.find_all('li')\n",
    "        \n",
    "        for el in li_elements:\n",
    "            el_name = el.find(class_=\"name\")\n",
    "            if el_name.text.strip() == 'ROE':\n",
    "                roe_element = el\n",
    "                break\n",
    "        if roe_element: \n",
    "            return float(roe_element.find(class_=\"number\").text.strip())\n",
    "    except Exception as e:\n",
    "        print(e)"
   ]
  },
  {
   "cell_type": "code",
   "execution_count": 11,
   "id": "3d96da1e-c1b2-48fb-8873-643b17d2ff3f",
   "metadata": {},
   "outputs": [],
   "source": [
    "# creating a Data Frame to store ROE of nifty 50 stocks\n",
    "nifty_50_roe = pd.DataFrame(index=[0])"
   ]
  },
  {
   "cell_type": "code",
   "execution_count": 12,
   "id": "274d2a24-2d18-4920-af4f-6d992424cee5",
   "metadata": {},
   "outputs": [],
   "source": [
    "# appending .NS to ticker name as yfinance requires .NS while fetching the data\n",
    "for ticker in tickers_list:\n",
    "    nifty_50_roe[ticker+'.NS'] = fetch_ROE(ticker)"
   ]
  },
  {
   "cell_type": "code",
   "execution_count": 13,
   "id": "da9813bf-5d28-4bd6-8abf-2f96c0b5df7a",
   "metadata": {},
   "outputs": [],
   "source": [
    "nifty_50_roe = nifty_50_roe.T\n",
    "nifty_50_roe.columns = ['ROE']"
   ]
  },
  {
   "cell_type": "code",
   "execution_count": 14,
   "id": "087ddbdd-4f44-46c5-a943-2be9fe1a077c",
   "metadata": {
    "tags": []
   },
   "outputs": [
    {
     "data": {
      "text/html": [
       "<div>\n",
       "<style scoped>\n",
       "    .dataframe tbody tr th:only-of-type {\n",
       "        vertical-align: middle;\n",
       "    }\n",
       "\n",
       "    .dataframe tbody tr th {\n",
       "        vertical-align: top;\n",
       "    }\n",
       "\n",
       "    .dataframe thead th {\n",
       "        text-align: right;\n",
       "    }\n",
       "</style>\n",
       "<table border=\"1\" class=\"dataframe\">\n",
       "  <thead>\n",
       "    <tr style=\"text-align: right;\">\n",
       "      <th></th>\n",
       "      <th>ROE</th>\n",
       "    </tr>\n",
       "  </thead>\n",
       "  <tbody>\n",
       "    <tr>\n",
       "      <th>ADANIPORTS.NS</th>\n",
       "      <td>14.7</td>\n",
       "    </tr>\n",
       "    <tr>\n",
       "      <th>APOLLOHOSP.NS</th>\n",
       "      <td>16.6</td>\n",
       "    </tr>\n",
       "    <tr>\n",
       "      <th>ASIANPAINT.NS</th>\n",
       "      <td>23.2</td>\n",
       "    </tr>\n",
       "    <tr>\n",
       "      <th>AXISBANK.NS</th>\n",
       "      <td>12.7</td>\n",
       "    </tr>\n",
       "    <tr>\n",
       "      <th>BAJAJ-AUTO.NS</th>\n",
       "      <td>19.0</td>\n",
       "    </tr>\n",
       "  </tbody>\n",
       "</table>\n",
       "</div>"
      ],
      "text/plain": [
       "                ROE\n",
       "ADANIPORTS.NS  14.7\n",
       "APOLLOHOSP.NS  16.6\n",
       "ASIANPAINT.NS  23.2\n",
       "AXISBANK.NS    12.7\n",
       "BAJAJ-AUTO.NS  19.0"
      ]
     },
     "execution_count": 14,
     "metadata": {},
     "output_type": "execute_result"
    }
   ],
   "source": [
    "nifty_50_roe.head()"
   ]
  },
  {
   "cell_type": "code",
   "execution_count": 15,
   "id": "0b67f16d-4d7a-4961-bd11-e72e4405a262",
   "metadata": {},
   "outputs": [],
   "source": [
    "# concating ROCE & ROE DataFrame\n",
    "nifty_50_fundamental_data = pd.concat([nifty_50_roce, nifty_50_roe], axis=1)"
   ]
  },
  {
   "cell_type": "code",
   "execution_count": 16,
   "id": "7f7d55aa-f3ff-41ae-9599-2b073739e416",
   "metadata": {},
   "outputs": [
    {
     "data": {
      "text/html": [
       "<div>\n",
       "<style scoped>\n",
       "    .dataframe tbody tr th:only-of-type {\n",
       "        vertical-align: middle;\n",
       "    }\n",
       "\n",
       "    .dataframe tbody tr th {\n",
       "        vertical-align: top;\n",
       "    }\n",
       "\n",
       "    .dataframe thead th {\n",
       "        text-align: right;\n",
       "    }\n",
       "</style>\n",
       "<table border=\"1\" class=\"dataframe\">\n",
       "  <thead>\n",
       "    <tr style=\"text-align: right;\">\n",
       "      <th></th>\n",
       "      <th>ROCE</th>\n",
       "      <th>ROE</th>\n",
       "    </tr>\n",
       "  </thead>\n",
       "  <tbody>\n",
       "    <tr>\n",
       "      <th>ADANIPORTS.NS</th>\n",
       "      <td>11.20</td>\n",
       "      <td>14.7</td>\n",
       "    </tr>\n",
       "    <tr>\n",
       "      <th>APOLLOHOSP.NS</th>\n",
       "      <td>17.80</td>\n",
       "      <td>16.6</td>\n",
       "    </tr>\n",
       "    <tr>\n",
       "      <th>ASIANPAINT.NS</th>\n",
       "      <td>29.70</td>\n",
       "      <td>23.2</td>\n",
       "    </tr>\n",
       "    <tr>\n",
       "      <th>AXISBANK.NS</th>\n",
       "      <td>5.15</td>\n",
       "      <td>12.7</td>\n",
       "    </tr>\n",
       "    <tr>\n",
       "      <th>BAJAJ-AUTO.NS</th>\n",
       "      <td>23.40</td>\n",
       "      <td>19.0</td>\n",
       "    </tr>\n",
       "  </tbody>\n",
       "</table>\n",
       "</div>"
      ],
      "text/plain": [
       "                ROCE   ROE\n",
       "ADANIPORTS.NS  11.20  14.7\n",
       "APOLLOHOSP.NS  17.80  16.6\n",
       "ASIANPAINT.NS  29.70  23.2\n",
       "AXISBANK.NS     5.15  12.7\n",
       "BAJAJ-AUTO.NS  23.40  19.0"
      ]
     },
     "execution_count": 16,
     "metadata": {},
     "output_type": "execute_result"
    }
   ],
   "source": [
    "nifty_50_fundamental_data.head()"
   ]
  },
  {
   "cell_type": "code",
   "execution_count": 17,
   "id": "c7ee52d8-177a-4ae1-b4a6-cf5443a3d3f1",
   "metadata": {},
   "outputs": [
    {
     "data": {
      "text/plain": [
       "(50, 2)"
      ]
     },
     "execution_count": 17,
     "metadata": {},
     "output_type": "execute_result"
    }
   ],
   "source": [
    "nifty_50_fundamental_data.shape"
   ]
  },
  {
   "cell_type": "code",
   "execution_count": 18,
   "id": "705ea2ef-4ff9-4ee3-881a-9e3b0260e84d",
   "metadata": {},
   "outputs": [],
   "source": [
    "# storing the data to a csv file\n",
    "nifty_50_fundamental_data.to_csv('Nifty_50_fundamental.csv')"
   ]
  }
 ],
 "metadata": {
  "kernelspec": {
   "display_name": "Python 3 (ipykernel)",
   "language": "python",
   "name": "python3"
  },
  "language_info": {
   "codemirror_mode": {
    "name": "ipython",
    "version": 3
   },
   "file_extension": ".py",
   "mimetype": "text/x-python",
   "name": "python",
   "nbconvert_exporter": "python",
   "pygments_lexer": "ipython3",
   "version": "3.9.7"
  }
 },
 "nbformat": 4,
 "nbformat_minor": 5
}
